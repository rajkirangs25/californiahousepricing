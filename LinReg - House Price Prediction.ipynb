{
 "cells": [
  {
   "cell_type": "code",
   "execution_count": null,
   "id": "4dfea01f-10b2-4c0a-8841-7c18f564c055",
   "metadata": {},
   "outputs": [],
   "source": [
    "import pandas as pd\n",
    "import numpy as np\n",
    "import matplotlib.pyplot as plt\n",
    "%matplotlib inline"
   ]
  },
  {
   "cell_type": "markdown",
   "id": "b9d6de82-31cd-43bb-8f68-b514e960404a",
   "metadata": {},
   "source": [
    "## Load California House Pricing Dataset"
   ]
  },
  {
   "cell_type": "code",
   "execution_count": null,
   "id": "902f3421-c1de-4def-8972-9c2dc1df0339",
   "metadata": {},
   "outputs": [],
   "source": [
    "from sklearn.datasets import fetch_california_housing"
   ]
  },
  {
   "cell_type": "code",
   "execution_count": null,
   "id": "aaa86b37-ee30-4aa6-b194-d7a9dc8d60fc",
   "metadata": {},
   "outputs": [],
   "source": [
    "california = fetch_california_housing()"
   ]
  },
  {
   "cell_type": "code",
   "execution_count": null,
   "id": "5366f4dc-18fc-46ac-a9df-7eab64848d14",
   "metadata": {},
   "outputs": [],
   "source": [
    "california.keys()"
   ]
  },
  {
   "cell_type": "code",
   "execution_count": null,
   "id": "6bbe0ee5-32dc-44a3-bfed-4cd9e7bdbe86",
   "metadata": {
    "scrolled": true
   },
   "outputs": [],
   "source": [
    "## Check the DESCR of the dataset\n",
    "print(california.DESCR)"
   ]
  },
  {
   "cell_type": "code",
   "execution_count": null,
   "id": "0eadeb20-915c-4fb0-b0f5-417a4abf103a",
   "metadata": {
    "scrolled": true
   },
   "outputs": [],
   "source": [
    "print(california.data)"
   ]
  },
  {
   "cell_type": "code",
   "execution_count": null,
   "id": "34c49c06-aede-4e60-a118-12b2f5fb358a",
   "metadata": {},
   "outputs": [],
   "source": [
    "california.target"
   ]
  },
  {
   "cell_type": "code",
   "execution_count": null,
   "id": "9bfd98c2-7126-4418-b4cf-73a6c28e5b11",
   "metadata": {},
   "outputs": [],
   "source": [
    "california.feature_names"
   ]
  },
  {
   "cell_type": "markdown",
   "id": "23df40b1-ec44-4b6e-93a3-7dcc4787e658",
   "metadata": {},
   "source": [
    " ## Preparing the Dataset"
   ]
  },
  {
   "cell_type": "code",
   "execution_count": null,
   "id": "bc345481-8549-4aa3-a686-605719a7305e",
   "metadata": {},
   "outputs": [],
   "source": [
    "dataset = pd.DataFrame(california.data, columns = california.feature_names)"
   ]
  },
  {
   "cell_type": "code",
   "execution_count": null,
   "id": "b4403ea2-7997-454f-a6aa-3f6f90d96999",
   "metadata": {},
   "outputs": [],
   "source": [
    "dataset.head()"
   ]
  },
  {
   "cell_type": "code",
   "execution_count": null,
   "id": "564491b7-3def-4467-959f-ec00078d1a26",
   "metadata": {},
   "outputs": [],
   "source": [
    "dataset['Price'] = california.target"
   ]
  },
  {
   "cell_type": "code",
   "execution_count": null,
   "id": "8032a775-2fc6-4458-bca4-d063bc7faabc",
   "metadata": {},
   "outputs": [],
   "source": [
    "dataset.head()"
   ]
  },
  {
   "cell_type": "code",
   "execution_count": null,
   "id": "eda3bdb5-e95e-4c38-8691-85cb9717725a",
   "metadata": {},
   "outputs": [],
   "source": [
    "dataset.info()"
   ]
  },
  {
   "cell_type": "markdown",
   "id": "94bca1ec-91af-418f-bb31-3b22333b154b",
   "metadata": {},
   "source": [
    "## Summarizing the stats of the Data"
   ]
  },
  {
   "cell_type": "code",
   "execution_count": null,
   "id": "705d153a-5544-4cc9-a8e5-77f0c5bf83b4",
   "metadata": {},
   "outputs": [],
   "source": [
    "dataset.describe()"
   ]
  },
  {
   "cell_type": "markdown",
   "id": "18161692-7c19-4e2a-9ee9-5968615b53b9",
   "metadata": {},
   "source": [
    "## Check Missing Values"
   ]
  },
  {
   "cell_type": "code",
   "execution_count": null,
   "id": "7866e26d-fce4-4894-a62b-06c61cb3020a",
   "metadata": {},
   "outputs": [],
   "source": [
    "dataset.isnull().sum()"
   ]
  },
  {
   "cell_type": "markdown",
   "id": "6afee8fe-ce9a-4f77-89f9-3b8e86b3a43a",
   "metadata": {},
   "source": [
    "### Exploratory Data Analysis\n",
    "\n",
    "## Correlation"
   ]
  },
  {
   "cell_type": "code",
   "execution_count": null,
   "id": "1622d7c1-0840-4761-b5b6-ae395b479758",
   "metadata": {
    "scrolled": true
   },
   "outputs": [],
   "source": [
    "dataset.corr()"
   ]
  },
  {
   "cell_type": "code",
   "execution_count": null,
   "id": "9f8edc81-2091-4bf3-9bdb-ae88b54c2601",
   "metadata": {},
   "outputs": [],
   "source": [
    "import seaborn as sns"
   ]
  },
  {
   "cell_type": "code",
   "execution_count": null,
   "id": "6437be0e-d9cc-4d9f-82ed-ad69cef4b584",
   "metadata": {},
   "outputs": [],
   "source": [
    "sns.pairplot(dataset)"
   ]
  },
  {
   "cell_type": "code",
   "execution_count": null,
   "id": "ff81b71b-b219-4e7e-82c3-58b4df55c424",
   "metadata": {},
   "outputs": [],
   "source": [
    "plt.scatter(dataset['MedInc'], dataset['Price'])\n",
    "plt.xlabel('Median Income')\n",
    "plt.ylabel('Price')"
   ]
  },
  {
   "cell_type": "code",
   "execution_count": null,
   "id": "bdfa7b96-25b5-479a-bade-fdd11638decf",
   "metadata": {},
   "outputs": [],
   "source": [
    "sns.regplot(data = dataset, x = 'MedInc', y = 'Price')"
   ]
  },
  {
   "cell_type": "code",
   "execution_count": null,
   "id": "96b166db-2bbe-42bf-8816-16b65546bb0c",
   "metadata": {},
   "outputs": [],
   "source": [
    "sns.regplot(data = dataset, x = 'Latitude', y = 'Price')"
   ]
  },
  {
   "cell_type": "code",
   "execution_count": null,
   "id": "436288ec-5215-43eb-9d96-ec3bdd813f03",
   "metadata": {},
   "outputs": [],
   "source": [
    "sns.regplot(data = dataset, x = 'Population', y = 'Latitude')"
   ]
  },
  {
   "cell_type": "markdown",
   "id": "bbb3e89a-e668-4202-a8f4-cb289db85487",
   "metadata": {},
   "source": [
    "## Independent and Dependent Features"
   ]
  },
  {
   "cell_type": "code",
   "execution_count": null,
   "id": "084bbcee-4c6e-4ac4-b8cf-87b9fb594e32",
   "metadata": {},
   "outputs": [],
   "source": [
    "X = dataset.iloc[:, :-1]\n",
    "y = dataset.iloc[:, -1]"
   ]
  },
  {
   "cell_type": "code",
   "execution_count": null,
   "id": "95d63fc2-113b-4a76-9a5f-ec821c8ba472",
   "metadata": {},
   "outputs": [],
   "source": [
    "X.head()"
   ]
  },
  {
   "cell_type": "code",
   "execution_count": null,
   "id": "52651d70-ab18-4a8c-aace-dd8459110da3",
   "metadata": {},
   "outputs": [],
   "source": [
    "y.head()"
   ]
  },
  {
   "cell_type": "markdown",
   "id": "52e084f9-1c0c-4b1a-8877-f91cc0157cd7",
   "metadata": {},
   "source": [
    "## Train Test Split"
   ]
  },
  {
   "cell_type": "code",
   "execution_count": null,
   "id": "d4c353fb-cbea-4a3b-a432-fadaa445899b",
   "metadata": {},
   "outputs": [],
   "source": [
    "from sklearn.model_selection import train_test_split"
   ]
  },
  {
   "cell_type": "code",
   "execution_count": null,
   "id": "c32f0c03-b7f4-4a0a-9929-595b798167a2",
   "metadata": {},
   "outputs": [],
   "source": [
    "X_train, X_test, y_train, y_test = train_test_split(X, y, test_size = 0.3, random_state = 42)"
   ]
  },
  {
   "cell_type": "code",
   "execution_count": null,
   "id": "adfc50bb-2575-4615-852a-887892700cb2",
   "metadata": {},
   "outputs": [],
   "source": [
    "X_train"
   ]
  },
  {
   "cell_type": "code",
   "execution_count": null,
   "id": "18810ef6-8764-4e5e-8074-8e3616dcf2c0",
   "metadata": {},
   "outputs": [],
   "source": [
    "X_test"
   ]
  },
  {
   "cell_type": "code",
   "execution_count": null,
   "id": "aafd8337-e268-4f71-a794-595485cc960e",
   "metadata": {},
   "outputs": [],
   "source": [
    "y_train"
   ]
  },
  {
   "cell_type": "code",
   "execution_count": null,
   "id": "db291db4-49f6-4bf5-b199-e3fd4c567964",
   "metadata": {},
   "outputs": [],
   "source": [
    "y_test"
   ]
  },
  {
   "cell_type": "code",
   "execution_count": null,
   "id": "7472b6b3-2496-4b77-b3cd-62571d232672",
   "metadata": {},
   "outputs": [],
   "source": [
    "## Statndardize the dataset\n",
    "from sklearn.preprocessing import StandardScaler\n",
    "scaler = StandardScaler()"
   ]
  },
  {
   "cell_type": "code",
   "execution_count": null,
   "id": "a4fcb045-5433-4525-9f61-3bdfca0b3492",
   "metadata": {},
   "outputs": [],
   "source": [
    "X_train = scaler.fit_transform(X_train)"
   ]
  },
  {
   "cell_type": "code",
   "execution_count": null,
   "id": "3c4e75d4-0bcc-41a2-af85-4943472a57f8",
   "metadata": {},
   "outputs": [],
   "source": [
    "X_test = scaler.transform(X_test)"
   ]
  },
  {
   "cell_type": "code",
   "execution_count": null,
   "id": "e7beca3b-db9e-4df9-a90c-47191afbff63",
   "metadata": {},
   "outputs": [],
   "source": [
    "import pickle\n",
    "pickle.dump(scaler, open('scaling.pkl', 'wb'))"
   ]
  },
  {
   "cell_type": "code",
   "execution_count": null,
   "id": "f92a06cf-083b-4949-9e0f-b68a4bc49229",
   "metadata": {},
   "outputs": [],
   "source": [
    "X_train"
   ]
  },
  {
   "cell_type": "code",
   "execution_count": null,
   "id": "db7d59e1-2ef4-46e4-bdb6-3352182dc83a",
   "metadata": {},
   "outputs": [],
   "source": [
    "X_test"
   ]
  },
  {
   "cell_type": "markdown",
   "id": "9f4fd140-3dc5-45d0-ac70-fc1e53b21b98",
   "metadata": {},
   "source": [
    "## Model Training"
   ]
  },
  {
   "cell_type": "code",
   "execution_count": null,
   "id": "d98b7502-c417-4947-b14f-169f1a4f5ff2",
   "metadata": {},
   "outputs": [],
   "source": [
    "from sklearn.linear_model import LinearRegression"
   ]
  },
  {
   "cell_type": "code",
   "execution_count": null,
   "id": "4bff023c-8868-4127-925c-349acc8b6f34",
   "metadata": {},
   "outputs": [],
   "source": [
    "reg = LinearRegression()"
   ]
  },
  {
   "cell_type": "code",
   "execution_count": null,
   "id": "4f71da67-3272-4d0f-83cb-9fa4e873fbed",
   "metadata": {},
   "outputs": [],
   "source": [
    "reg.fit(X_train, y_train)"
   ]
  },
  {
   "cell_type": "code",
   "execution_count": null,
   "id": "65736f4a-3cd8-4021-9bbf-286bf24ebe38",
   "metadata": {},
   "outputs": [],
   "source": [
    "## print the coefficients and the intercept\n",
    "print(reg.coef_)"
   ]
  },
  {
   "cell_type": "code",
   "execution_count": null,
   "id": "174c44d0-63fe-43c7-9866-fc3670de8318",
   "metadata": {},
   "outputs": [],
   "source": [
    "print(reg.intercept_)"
   ]
  },
  {
   "cell_type": "code",
   "execution_count": null,
   "id": "c42ed738-ee56-4c5b-826e-58869dcaf55d",
   "metadata": {},
   "outputs": [],
   "source": [
    "## on which parameters the model has been trained\n",
    "reg.get_params()"
   ]
  },
  {
   "cell_type": "markdown",
   "id": "76c2d3d0-525a-4475-9e89-57d68c294966",
   "metadata": {},
   "source": [
    "### Predictions with Test Data"
   ]
  },
  {
   "cell_type": "code",
   "execution_count": null,
   "id": "b5bcf9b0-dc01-41d6-8ba4-1927336bbdd3",
   "metadata": {},
   "outputs": [],
   "source": [
    "reg_pred = reg.predict(X_test)"
   ]
  },
  {
   "cell_type": "code",
   "execution_count": null,
   "id": "01a1e2a7-bb8a-4ed4-ae30-dcc4a3e1ae55",
   "metadata": {},
   "outputs": [],
   "source": [
    "reg_pred"
   ]
  },
  {
   "cell_type": "markdown",
   "id": "628ae782-bbd4-4194-b9fa-aa7ea4875426",
   "metadata": {},
   "source": [
    "## Plot a scatter plot for predictions"
   ]
  },
  {
   "cell_type": "code",
   "execution_count": null,
   "id": "9bca8107-76ba-4a24-b79b-93906c69b780",
   "metadata": {},
   "outputs": [],
   "source": [
    "plt.scatter(y_test, reg_pred)"
   ]
  },
  {
   "cell_type": "markdown",
   "id": "0f50427d-38a9-4bbb-a944-cd18b438f478",
   "metadata": {},
   "source": [
    "## Residuals"
   ]
  },
  {
   "cell_type": "code",
   "execution_count": null,
   "id": "d1e40666-4d53-422d-ae03-217064b14523",
   "metadata": {},
   "outputs": [],
   "source": [
    "residuals = y_test - reg_pred"
   ]
  },
  {
   "cell_type": "code",
   "execution_count": null,
   "id": "8b81eb6e-d553-497c-807e-1617e154a9f7",
   "metadata": {},
   "outputs": [],
   "source": [
    "residuals"
   ]
  },
  {
   "cell_type": "markdown",
   "id": "e6537017-57f3-4d63-97fd-27de68316ff4",
   "metadata": {},
   "source": [
    "## plot this Residuals"
   ]
  },
  {
   "cell_type": "code",
   "execution_count": null,
   "id": "abb2470f-65cd-4aee-b8f6-1112bc0667ec",
   "metadata": {},
   "outputs": [],
   "source": [
    "sns.displot(residuals, kind = 'kde')"
   ]
  },
  {
   "cell_type": "markdown",
   "id": "31bd25fd-9d5e-4725-bf28-d3a7cba39fcf",
   "metadata": {},
   "source": [
    "## Scatter plot with prediction and residuals"
   ]
  },
  {
   "cell_type": "code",
   "execution_count": null,
   "id": "62d4fd1d-646b-418e-85fc-14d16a62ad24",
   "metadata": {},
   "outputs": [],
   "source": [
    "plt.scatter(reg_pred, residuals)"
   ]
  },
  {
   "cell_type": "code",
   "execution_count": null,
   "id": "f2b1c80d-dacd-444f-9f8f-dc349040efae",
   "metadata": {},
   "outputs": [],
   "source": [
    "from sklearn.metrics import mean_squared_error, mean_absolute_error"
   ]
  },
  {
   "cell_type": "code",
   "execution_count": null,
   "id": "11c38dbd-db4d-493c-98b4-2f8430adc256",
   "metadata": {},
   "outputs": [],
   "source": [
    "print(mean_squared_error(y_test, reg_pred))\n",
    "print(mean_absolute_error(y_test, reg_pred))\n",
    "print(np.sqrt(mean_squared_error(y_test, reg_pred)))"
   ]
  },
  {
   "cell_type": "markdown",
   "id": "e42bbe4b-dfa0-444c-a0aa-0e75412b236c",
   "metadata": {},
   "source": [
    "# R squared and adjusted R square"
   ]
  },
  {
   "cell_type": "code",
   "execution_count": null,
   "id": "6de17ddf-33f8-4be0-82b2-cff804bcfc93",
   "metadata": {},
   "outputs": [],
   "source": [
    "from sklearn.metrics import r2_score\n",
    "score = r2_score(y_test, reg_pred)"
   ]
  },
  {
   "cell_type": "code",
   "execution_count": null,
   "id": "85cd2ea0-d972-4d5f-9ddf-c727ea806f27",
   "metadata": {},
   "outputs": [],
   "source": [
    "score"
   ]
  },
  {
   "cell_type": "code",
   "execution_count": null,
   "id": "90888c7a-f906-4f1c-a42b-53c81010257a",
   "metadata": {},
   "outputs": [],
   "source": [
    "# display adjusted R-Squared\n",
    "1 - (1-score)*(len(y_test)-1)/(len(y_test)-X_test.shape[1]-1)"
   ]
  },
  {
   "cell_type": "markdown",
   "id": "864d08b1-0ad2-46ac-a076-847f067237ba",
   "metadata": {},
   "source": [
    "## New Data Prediction"
   ]
  },
  {
   "cell_type": "code",
   "execution_count": null,
   "id": "953d44ec-7c5a-44fb-9185-475235b2e654",
   "metadata": {},
   "outputs": [],
   "source": [
    "california.data[0].reshape(1,-1).shape"
   ]
  },
  {
   "cell_type": "code",
   "execution_count": null,
   "id": "8b8dedc2-5018-4e90-8dde-f5b7b6ec29df",
   "metadata": {},
   "outputs": [],
   "source": [
    "scaler.transform(california.data[0].reshape(1, -1))"
   ]
  },
  {
   "cell_type": "code",
   "execution_count": null,
   "id": "962ad715-3d7c-42cf-9aab-3c8b04720f4e",
   "metadata": {},
   "outputs": [],
   "source": [
    "reg.predict(scaler.transform(california.data[0].reshape(1, -1)))"
   ]
  },
  {
   "cell_type": "markdown",
   "id": "11ee8247-0449-4eb0-a133-a9b8a848e72b",
   "metadata": {},
   "source": [
    "## Pickling the model file for deployment"
   ]
  },
  {
   "cell_type": "code",
   "execution_count": null,
   "id": "45810077-9336-46d6-a0f7-c04b37779fcd",
   "metadata": {},
   "outputs": [],
   "source": [
    "import pickle"
   ]
  },
  {
   "cell_type": "code",
   "execution_count": null,
   "id": "59fcdf2d-c9ff-4e2d-868f-2c6817375b18",
   "metadata": {},
   "outputs": [],
   "source": [
    "pickle.dump(reg, open('regmodel.pkl', 'wb'))"
   ]
  },
  {
   "cell_type": "code",
   "execution_count": null,
   "id": "f963f417-d0b5-4d79-9bb4-8bace01801b0",
   "metadata": {},
   "outputs": [],
   "source": [
    "pickled_model = pickle.load(open('regmodel.pkl', 'rb'))"
   ]
  },
  {
   "cell_type": "code",
   "execution_count": null,
   "id": "c5d377c9-2ff4-4d0a-9676-5bc2e226bde7",
   "metadata": {},
   "outputs": [],
   "source": [
    "pickled_model.predict(scaler.transform(california.data[0].reshape(1, -1)))"
   ]
  }
 ],
 "metadata": {
  "kernelspec": {
   "display_name": "Python 3 (ipykernel)",
   "language": "python",
   "name": "python3"
  },
  "language_info": {
   "codemirror_mode": {
    "name": "ipython",
    "version": 3
   },
   "file_extension": ".py",
   "mimetype": "text/x-python",
   "name": "python",
   "nbconvert_exporter": "python",
   "pygments_lexer": "ipython3",
   "version": "3.12.3"
  }
 },
 "nbformat": 4,
 "nbformat_minor": 5
}
